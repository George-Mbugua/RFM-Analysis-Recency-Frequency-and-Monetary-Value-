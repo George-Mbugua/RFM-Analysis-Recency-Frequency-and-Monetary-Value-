{
 "cells": [
  {
   "cell_type": "markdown",
   "metadata": {},
   "source": [
    "# RFM Analysis"
   ]
  },
  {
   "cell_type": "markdown",
   "metadata": {},
   "source": [
    "## 1. Introduction\n"
   ]
  },
  {
   "cell_type": "markdown",
   "metadata": {},
   "source": [
    "In this notebook we will be conducting an RFM (Recency, Frequency, Monetary) Analysis. This is a powerful method used by data science professionals, particularly in the marketing domain, to understand and segment customers based on their buying behavior.\n",
    "\n",
    "The RFM Analysis assesses customers on three key metrics:\n",
    "\n",
    "**1. Recency: The date of their last purchase.**\n",
    "\n",
    "**2. Frequency: How often they make purchases.**\n",
    "\n",
    "**3. Monetary Value: The amount they spend on purchases.**\n",
    "\n",
    "These three metrics provide valuable insights into customer engagement, loyalty, and overall value to a business."
   ]
  },
  {
   "cell_type": "markdown",
   "metadata": {},
   "source": [
    "# 2. Business Understanding"
   ]
  },
  {
   "cell_type": "markdown",
   "metadata": {},
   "source": [
    "In any business, understanding the customer is key to success. Knowing who your customers are, how they interact with your business, and what their purchasing behaviors look like can provide invaluable insights. These insights can inform strategies for marketing, sales, customer retention, and even product development.\n",
    "\n",
    "This is where RFM Analysis comes in. By looking at the Recency, Frequency, and Monetary value of each customer’s transactions, we can gain a deeper understanding of their buying behavior. This allows us to segment our customer base into different groups based on these behaviors.\n",
    "\n",
    "For example, customers who have made purchases recently and do so frequently are likely to be our most loyal and valuable customers. On the other hand, customers who haven’t made a purchase in a long time might be at risk of churning, and may need targeted marketing efforts to re-engage them.\n",
    "\n",
    "By conducting an RFM Analysis, businesses can make data-driven decisions to optimize their strategies and ultimately drive growth and profitability."
   ]
  },
  {
   "cell_type": "markdown",
   "metadata": {},
   "source": [
    "# 3. Data understanding"
   ]
  },
  {
   "cell_type": "markdown",
   "metadata": {},
   "source": [
    "The given dataset is provided by an e-commerce platform containing customer transaction data (rfm_data.csv) including customer ID, purchase date, transaction amount, product information, ID command and location."
   ]
  },
  {
   "cell_type": "markdown",
   "metadata": {},
   "source": [
    "## Steps\n",
    "1. Load the data with pandas and explore the dataframes.\n",
    "2. Clean the data by dealing with:\n",
    "    - missing values\n",
    "    - duplicate rows\n",
    "    - invalid data\n",
    "    - outliers\n",
    "3. Perform exploratory analysis in order to answer the business questions.\n",
    "4. Conclusion.\n",
    "5. Recommendations."
   ]
  },
  {
   "cell_type": "markdown",
   "metadata": {},
   "source": [
    "## Questions to answer:\n",
    "1. Recency: When was each customer’s last purchase? This can help identify who are “active” customers versus “inactive” or “at-risk” customers.\n",
    "\n",
    "2. Frequency: How often do customers purchase? This can help identify who are regular customers.\n",
    "\n",
    "3. Monetary: How much do customers spend on purchases? This can help identify who are “high-value” customers.\n",
    "\n",
    "4. Customer Segmentation: Can I segment or group customers based on their RFM scores? For example, high-value active customers, high-value inactive customers.\n",
    "\n",
    "5. Marketing Opportunities: Based on the customer segments, what personalized marketing campaigns could be effective? For example, loyalty rewards for regular high-value customers, etc. but thereby the oraganization\n",
    "\n"
   ]
  },
  {
   "cell_type": "markdown",
   "metadata": {},
   "source": [
    "# 4. Loading and Prviewing the Datasets"
   ]
  },
  {
   "cell_type": "code",
   "execution_count": 153,
   "metadata": {},
   "outputs": [],
   "source": [
    "import pandas as pd\n",
    "import numpy as np\n",
    "import matplotlib.pyplot as plt"
   ]
  },
  {
   "cell_type": "code",
   "execution_count": 154,
   "metadata": {},
   "outputs": [],
   "source": [
    "df=pd.read_csv(\"rfm_data.csv\")"
   ]
  },
  {
   "cell_type": "code",
   "execution_count": 155,
   "metadata": {},
   "outputs": [
    {
     "data": {
      "text/html": [
       "<div>\n",
       "<style scoped>\n",
       "    .dataframe tbody tr th:only-of-type {\n",
       "        vertical-align: middle;\n",
       "    }\n",
       "\n",
       "    .dataframe tbody tr th {\n",
       "        vertical-align: top;\n",
       "    }\n",
       "\n",
       "    .dataframe thead th {\n",
       "        text-align: right;\n",
       "    }\n",
       "</style>\n",
       "<table border=\"1\" class=\"dataframe\">\n",
       "  <thead>\n",
       "    <tr style=\"text-align: right;\">\n",
       "      <th></th>\n",
       "      <th>CustomerID</th>\n",
       "      <th>PurchaseDate</th>\n",
       "      <th>TransactionAmount</th>\n",
       "      <th>ProductInformation</th>\n",
       "      <th>OrderID</th>\n",
       "      <th>Location</th>\n",
       "    </tr>\n",
       "  </thead>\n",
       "  <tbody>\n",
       "    <tr>\n",
       "      <th>0</th>\n",
       "      <td>8814</td>\n",
       "      <td>2023-04-11</td>\n",
       "      <td>943.31</td>\n",
       "      <td>Product C</td>\n",
       "      <td>890075</td>\n",
       "      <td>Tokyo</td>\n",
       "    </tr>\n",
       "    <tr>\n",
       "      <th>1</th>\n",
       "      <td>2188</td>\n",
       "      <td>2023-04-11</td>\n",
       "      <td>463.70</td>\n",
       "      <td>Product A</td>\n",
       "      <td>176819</td>\n",
       "      <td>London</td>\n",
       "    </tr>\n",
       "    <tr>\n",
       "      <th>2</th>\n",
       "      <td>4608</td>\n",
       "      <td>2023-04-11</td>\n",
       "      <td>80.28</td>\n",
       "      <td>Product A</td>\n",
       "      <td>340062</td>\n",
       "      <td>New York</td>\n",
       "    </tr>\n",
       "    <tr>\n",
       "      <th>3</th>\n",
       "      <td>2559</td>\n",
       "      <td>2023-04-11</td>\n",
       "      <td>221.29</td>\n",
       "      <td>Product A</td>\n",
       "      <td>239145</td>\n",
       "      <td>London</td>\n",
       "    </tr>\n",
       "    <tr>\n",
       "      <th>4</th>\n",
       "      <td>9482</td>\n",
       "      <td>2023-04-11</td>\n",
       "      <td>739.56</td>\n",
       "      <td>Product A</td>\n",
       "      <td>194545</td>\n",
       "      <td>Paris</td>\n",
       "    </tr>\n",
       "  </tbody>\n",
       "</table>\n",
       "</div>"
      ],
      "text/plain": [
       "   CustomerID PurchaseDate  TransactionAmount ProductInformation  OrderID  \\\n",
       "0        8814   2023-04-11             943.31          Product C   890075   \n",
       "1        2188   2023-04-11             463.70          Product A   176819   \n",
       "2        4608   2023-04-11              80.28          Product A   340062   \n",
       "3        2559   2023-04-11             221.29          Product A   239145   \n",
       "4        9482   2023-04-11             739.56          Product A   194545   \n",
       "\n",
       "   Location  \n",
       "0     Tokyo  \n",
       "1    London  \n",
       "2  New York  \n",
       "3    London  \n",
       "4     Paris  "
      ]
     },
     "execution_count": 155,
     "metadata": {},
     "output_type": "execute_result"
    }
   ],
   "source": [
    "df.head()"
   ]
  },
  {
   "cell_type": "code",
   "execution_count": 156,
   "metadata": {},
   "outputs": [
    {
     "data": {
      "text/html": [
       "<div>\n",
       "<style scoped>\n",
       "    .dataframe tbody tr th:only-of-type {\n",
       "        vertical-align: middle;\n",
       "    }\n",
       "\n",
       "    .dataframe tbody tr th {\n",
       "        vertical-align: top;\n",
       "    }\n",
       "\n",
       "    .dataframe thead th {\n",
       "        text-align: right;\n",
       "    }\n",
       "</style>\n",
       "<table border=\"1\" class=\"dataframe\">\n",
       "  <thead>\n",
       "    <tr style=\"text-align: right;\">\n",
       "      <th></th>\n",
       "      <th>CustomerID</th>\n",
       "      <th>PurchaseDate</th>\n",
       "      <th>TransactionAmount</th>\n",
       "      <th>ProductInformation</th>\n",
       "      <th>OrderID</th>\n",
       "      <th>Location</th>\n",
       "    </tr>\n",
       "  </thead>\n",
       "  <tbody>\n",
       "    <tr>\n",
       "      <th>995</th>\n",
       "      <td>2970</td>\n",
       "      <td>2023-06-10</td>\n",
       "      <td>759.62</td>\n",
       "      <td>Product B</td>\n",
       "      <td>275284</td>\n",
       "      <td>London</td>\n",
       "    </tr>\n",
       "    <tr>\n",
       "      <th>996</th>\n",
       "      <td>6669</td>\n",
       "      <td>2023-06-10</td>\n",
       "      <td>941.50</td>\n",
       "      <td>Product C</td>\n",
       "      <td>987025</td>\n",
       "      <td>New York</td>\n",
       "    </tr>\n",
       "    <tr>\n",
       "      <th>997</th>\n",
       "      <td>8836</td>\n",
       "      <td>2023-06-10</td>\n",
       "      <td>545.36</td>\n",
       "      <td>Product C</td>\n",
       "      <td>512842</td>\n",
       "      <td>London</td>\n",
       "    </tr>\n",
       "    <tr>\n",
       "      <th>998</th>\n",
       "      <td>1440</td>\n",
       "      <td>2023-06-10</td>\n",
       "      <td>729.94</td>\n",
       "      <td>Product B</td>\n",
       "      <td>559753</td>\n",
       "      <td>Paris</td>\n",
       "    </tr>\n",
       "    <tr>\n",
       "      <th>999</th>\n",
       "      <td>4759</td>\n",
       "      <td>2023-06-10</td>\n",
       "      <td>804.28</td>\n",
       "      <td>Product D</td>\n",
       "      <td>467544</td>\n",
       "      <td>New York</td>\n",
       "    </tr>\n",
       "  </tbody>\n",
       "</table>\n",
       "</div>"
      ],
      "text/plain": [
       "     CustomerID PurchaseDate  TransactionAmount ProductInformation  OrderID  \\\n",
       "995        2970   2023-06-10             759.62          Product B   275284   \n",
       "996        6669   2023-06-10             941.50          Product C   987025   \n",
       "997        8836   2023-06-10             545.36          Product C   512842   \n",
       "998        1440   2023-06-10             729.94          Product B   559753   \n",
       "999        4759   2023-06-10             804.28          Product D   467544   \n",
       "\n",
       "     Location  \n",
       "995    London  \n",
       "996  New York  \n",
       "997    London  \n",
       "998     Paris  \n",
       "999  New York  "
      ]
     },
     "execution_count": 156,
     "metadata": {},
     "output_type": "execute_result"
    }
   ],
   "source": [
    "df.tail()"
   ]
  },
  {
   "cell_type": "code",
   "execution_count": 157,
   "metadata": {},
   "outputs": [
    {
     "data": {
      "text/plain": [
       "(1000, 6)"
      ]
     },
     "execution_count": 157,
     "metadata": {},
     "output_type": "execute_result"
    }
   ],
   "source": [
    "df.shape"
   ]
  },
  {
   "cell_type": "code",
   "execution_count": 158,
   "metadata": {},
   "outputs": [
    {
     "name": "stdout",
     "output_type": "stream",
     "text": [
      "<class 'pandas.core.frame.DataFrame'>\n",
      "RangeIndex: 1000 entries, 0 to 999\n",
      "Data columns (total 6 columns):\n",
      " #   Column              Non-Null Count  Dtype  \n",
      "---  ------              --------------  -----  \n",
      " 0   CustomerID          1000 non-null   int64  \n",
      " 1   PurchaseDate        1000 non-null   object \n",
      " 2   TransactionAmount   1000 non-null   float64\n",
      " 3   ProductInformation  1000 non-null   object \n",
      " 4   OrderID             1000 non-null   int64  \n",
      " 5   Location            1000 non-null   object \n",
      "dtypes: float64(1), int64(2), object(3)\n",
      "memory usage: 47.0+ KB\n"
     ]
    }
   ],
   "source": [
    "df.info()"
   ]
  },
  {
   "cell_type": "code",
   "execution_count": 159,
   "metadata": {},
   "outputs": [
    {
     "data": {
      "text/html": [
       "<div>\n",
       "<style scoped>\n",
       "    .dataframe tbody tr th:only-of-type {\n",
       "        vertical-align: middle;\n",
       "    }\n",
       "\n",
       "    .dataframe tbody tr th {\n",
       "        vertical-align: top;\n",
       "    }\n",
       "\n",
       "    .dataframe thead th {\n",
       "        text-align: right;\n",
       "    }\n",
       "</style>\n",
       "<table border=\"1\" class=\"dataframe\">\n",
       "  <thead>\n",
       "    <tr style=\"text-align: right;\">\n",
       "      <th></th>\n",
       "      <th>CustomerID</th>\n",
       "      <th>TransactionAmount</th>\n",
       "      <th>OrderID</th>\n",
       "    </tr>\n",
       "  </thead>\n",
       "  <tbody>\n",
       "    <tr>\n",
       "      <th>count</th>\n",
       "      <td>1000.000000</td>\n",
       "      <td>1000.00000</td>\n",
       "      <td>1000.000000</td>\n",
       "    </tr>\n",
       "    <tr>\n",
       "      <th>mean</th>\n",
       "      <td>5554.789000</td>\n",
       "      <td>513.67781</td>\n",
       "      <td>554071.398000</td>\n",
       "    </tr>\n",
       "    <tr>\n",
       "      <th>std</th>\n",
       "      <td>2605.014863</td>\n",
       "      <td>286.09870</td>\n",
       "      <td>264695.448814</td>\n",
       "    </tr>\n",
       "    <tr>\n",
       "      <th>min</th>\n",
       "      <td>1011.000000</td>\n",
       "      <td>12.13000</td>\n",
       "      <td>100096.000000</td>\n",
       "    </tr>\n",
       "    <tr>\n",
       "      <th>25%</th>\n",
       "      <td>3273.000000</td>\n",
       "      <td>257.12000</td>\n",
       "      <td>313152.000000</td>\n",
       "    </tr>\n",
       "    <tr>\n",
       "      <th>50%</th>\n",
       "      <td>5538.000000</td>\n",
       "      <td>523.56500</td>\n",
       "      <td>564671.500000</td>\n",
       "    </tr>\n",
       "    <tr>\n",
       "      <th>75%</th>\n",
       "      <td>7821.750000</td>\n",
       "      <td>759.86000</td>\n",
       "      <td>783052.250000</td>\n",
       "    </tr>\n",
       "    <tr>\n",
       "      <th>max</th>\n",
       "      <td>9991.000000</td>\n",
       "      <td>999.44000</td>\n",
       "      <td>999695.000000</td>\n",
       "    </tr>\n",
       "  </tbody>\n",
       "</table>\n",
       "</div>"
      ],
      "text/plain": [
       "        CustomerID  TransactionAmount        OrderID\n",
       "count  1000.000000         1000.00000    1000.000000\n",
       "mean   5554.789000          513.67781  554071.398000\n",
       "std    2605.014863          286.09870  264695.448814\n",
       "min    1011.000000           12.13000  100096.000000\n",
       "25%    3273.000000          257.12000  313152.000000\n",
       "50%    5538.000000          523.56500  564671.500000\n",
       "75%    7821.750000          759.86000  783052.250000\n",
       "max    9991.000000          999.44000  999695.000000"
      ]
     },
     "execution_count": 159,
     "metadata": {},
     "output_type": "execute_result"
    }
   ],
   "source": [
    "df.describe()"
   ]
  },
  {
   "cell_type": "markdown",
   "metadata": {},
   "source": [
    "Duplicates"
   ]
  },
  {
   "cell_type": "code",
   "execution_count": 160,
   "metadata": {},
   "outputs": [
    {
     "data": {
      "text/plain": [
       "0"
      ]
     },
     "execution_count": 160,
     "metadata": {},
     "output_type": "execute_result"
    }
   ],
   "source": [
    "#Finding out number if there are duplicates\n",
    "duplicates=df.duplicated()\n",
    "duplicates.sum()"
   ]
  },
  {
   "cell_type": "markdown",
   "metadata": {},
   "source": [
    "Outliers"
   ]
  },
  {
   "cell_type": "code",
   "execution_count": 161,
   "metadata": {},
   "outputs": [
    {
     "data": {
      "image/png": "[encoded data removed]",
      "text/plain": [
       "<Figure size 640x480 with 1 Axes>"
      ]
     },
     "metadata": {},
     "output_type": "display_data"
    }
   ],
   "source": [
    "plt.boxplot(df['TransactionAmount'])\n",
    "plt.title('Box plot of TransactionAmount')\n",
    "plt.show()\n"
   ]
  },
  {
   "cell_type": "markdown",
   "metadata": {},
   "source": [
    "Observations:\n",
    "- The ‘PurchaseDate’ column is of object type, to be able to perform time series analysis,I will convert it to datetime format.\n",
    "- There is no missing data.\n",
    "- The median appears to be around 500 but there are no significant outliers.\n"
   ]
  },
  {
   "cell_type": "markdown",
   "metadata": {},
   "source": [
    "# 5. Data Cleaning"
   ]
  },
  {
   "cell_type": "markdown",
   "metadata": {},
   "source": [
    "## 5.1. Wrong Data Types "
   ]
  },
  {
   "cell_type": "code",
   "execution_count": 162,
   "metadata": {},
   "outputs": [
    {
     "data": {
      "text/plain": [
       "CustomerID                     int64\n",
       "PurchaseDate          datetime64[ns]\n",
       "TransactionAmount            float64\n",
       "ProductInformation            object\n",
       "OrderID                        int64\n",
       "Location                      object\n",
       "dtype: object"
      ]
     },
     "execution_count": 162,
     "metadata": {},
     "output_type": "execute_result"
    }
   ],
   "source": [
    "# Converting to datetime format for easier analysis\n",
    "df['PurchaseDate'] = pd.to_datetime(df['PurchaseDate'])\n",
    "df.dtypes"
   ]
  },
  {
   "cell_type": "markdown",
   "metadata": {},
   "source": [
    "## 6. Data Exploration"
   ]
  },
  {
   "cell_type": "markdown",
   "metadata": {},
   "source": [
    "### 6.1. Recency: When was each customer’s last purchase?"
   ]
  },
  {
   "cell_type": "code",
   "execution_count": 163,
   "metadata": {},
   "outputs": [
    {
     "name": "stdout",
     "output_type": "stream",
     "text": [
      "CustomerID\n",
      "1011    161\n",
      "1025    149\n",
      "1029    128\n",
      "1046    171\n",
      "1049    141\n",
      "Name: PurchaseDate, dtype: int64\n"
     ]
    },
    {
     "data": {
      "image/png": "[encoded data removed]",
      "text/plain": [
       "<Figure size 640x480 with 1 Axes>"
      ]
     },
     "metadata": {},
     "output_type": "display_data"
    }
   ],
   "source": [
    "# Finding the most recent purchase date for each customer\n",
    "recency_df = df.groupby('CustomerID')['PurchaseDate'].max()\n",
    "\n",
    "# Calculating the number of days since the last purchase for each customer\n",
    "recency_df = (pd.Timestamp.now() - recency_df).dt.days\n",
    "\n",
    "# Displaying the first few rows\n",
    "print(recency_df.head())\n",
    "\n",
    "# Plotting a histogram\n",
    "plt.hist(recency_df, bins=20, edgecolor='black')\n",
    "plt.title('Recency of Purchases')\n",
    "plt.xlabel('Days Since Last Purchase')\n",
    "plt.ylabel('Number of Customers')\n",
    "plt.show()"
   ]
  },
  {
   "cell_type": "markdown",
   "metadata": {},
   "source": [
    "**Observations:**\n",
    "\n",
    "**- Most people had their last purchase 109 days ago**\n"
   ]
  },
  {
   "cell_type": "markdown",
   "metadata": {},
   "source": [
    "## 6.2. Frequency: How often do customers purchase"
   ]
  },
  {
   "cell_type": "code",
   "execution_count": 164,
   "metadata": {},
   "outputs": [
    {
     "data": {
      "text/plain": [
       "CustomerID\n",
       "1011    2\n",
       "1025    1\n",
       "1029    1\n",
       "1046    1\n",
       "1049    1\n",
       "Name: OrderID, dtype: int64"
      ]
     },
     "execution_count": 164,
     "metadata": {},
     "output_type": "execute_result"
    }
   ],
   "source": [
    "frequency_df = df.groupby('CustomerID')['OrderID'].count()\n",
    "\n",
    "# Display the first few rows\n",
    "frequency_df.head()"
   ]
  },
  {
   "cell_type": "code",
   "execution_count": 165,
   "metadata": {},
   "outputs": [
    {
     "data": {
      "image/png": "[encoded data removed]",
      "text/plain": [
       "<Figure size 640x480 with 1 Axes>"
      ]
     },
     "metadata": {},
     "output_type": "display_data"
    }
   ],
   "source": [
    "# Plotting a histogram\n",
    "plt.hist(frequency_df, bins=20, edgecolor='black')\n",
    "plt.title('Frequency of Purchases')\n",
    "plt.xlabel('Number of Purchases')\n",
    "plt.ylabel('Number of Customers')\n",
    "plt.show()"
   ]
  },
  {
   "cell_type": "markdown",
   "metadata": {},
   "source": [
    "## 6.3. Who are the top customers?"
   ]
  },
  {
   "cell_type": "code",
   "execution_count": 166,
   "metadata": {},
   "outputs": [
    {
     "data": {
      "text/plain": [
       "CustomerID\n",
       "1011    945619\n",
       "1025    296412\n",
       "1029    992083\n",
       "1046    236306\n",
       "1049    147489\n",
       "Name: OrderID, dtype: int64"
      ]
     },
     "execution_count": 166,
     "metadata": {},
     "output_type": "execute_result"
    }
   ],
   "source": [
    "frequency_df2 = df.groupby('CustomerID')['OrderID'].max()\n",
    "frequency_df2.head()"
   ]
  },
  {
   "cell_type": "code",
   "execution_count": 167,
   "metadata": {},
   "outputs": [],
   "source": [
    "#Top 10 purchasers\n",
    "top_purchasers = df.groupby('CustomerID')['TransactionAmount'].sum().nlargest(10)"
   ]
  },
  {
   "cell_type": "code",
   "execution_count": 168,
   "metadata": {},
   "outputs": [
    {
     "data": {
      "image/png": "[encoded data removed]",
      "text/plain": [
       "<Figure size 640x480 with 1 Axes>"
      ]
     },
     "metadata": {},
     "output_type": "display_data"
    }
   ],
   "source": [
    "# Creating bar plot\n",
    "top_purchasers.plot(kind='bar')\n",
    "\n",
    "plt.title('Top 10 Customers')\n",
    "plt.xlabel('CustomerID')\n",
    "plt.ylabel('Total Transaction Amount')\n",
    "plt.show()"
   ]
  },
  {
   "cell_type": "markdown",
   "metadata": {},
   "source": [
    "## 6.4 Which are the top selling products?\n"
   ]
  },
  {
   "cell_type": "code",
   "execution_count": 169,
   "metadata": {},
   "outputs": [],
   "source": [
    "product_sales =df.groupby('ProductInformation')['TransactionAmount'].sum()\n"
   ]
  },
  {
   "cell_type": "code",
   "execution_count": 170,
   "metadata": {},
   "outputs": [
    {
     "data": {
      "text/plain": [
       "ProductInformation\n",
       "Product C    144491.49\n",
       "Product D    128728.31\n",
       "Product B    123038.08\n",
       "Product A    117419.93\n",
       "Name: TransactionAmount, dtype: float64"
      ]
     },
     "execution_count": 170,
     "metadata": {},
     "output_type": "execute_result"
    }
   ],
   "source": [
    "top_products = product_sales.sort_values(ascending=False)\n",
    "top_products"
   ]
  },
  {
   "cell_type": "code",
   "execution_count": 171,
   "metadata": {},
   "outputs": [
    {
     "data": {
      "image/png": "[encoded data removed]",
      "text/plain": [
       "<Figure size 1000x600 with 1 Axes>"
      ]
     },
     "metadata": {},
     "output_type": "display_data"
    }
   ],
   "source": [
    "# Creating a bar plot\n",
    "plt.figure(figsize=(10,6))  # Set the figure size\n",
    "top_products.plot(kind='bar', color='skyblue')  # Create a bar plot\n",
    "plt.title('Top Selling Products')\n",
    "plt.xlabel('Product')\n",
    "plt.ylabel('Total Sales')\n",
    "plt.xticks(rotation=45)\n",
    "plt.show()"
   ]
  },
  {
   "cell_type": "markdown",
   "metadata": {},
   "source": [
    "## 6.5 How do the products sell per location?\n"
   ]
  },
  {
   "cell_type": "code",
   "execution_count": 172,
   "metadata": {},
   "outputs": [
    {
     "data": {
      "text/plain": [
       "Location  ProductInformation\n",
       "London    Product A             54\n",
       "          Product B             60\n",
       "          Product C             74\n",
       "          Product D             58\n",
       "New York  Product A             53\n",
       "          Product B             59\n",
       "          Product C             66\n",
       "          Product D             69\n",
       "Paris     Product A             50\n",
       "          Product B             58\n",
       "          Product C             65\n",
       "          Product D             56\n",
       "Tokyo     Product A             68\n",
       "          Product B             68\n",
       "          Product C             72\n",
       "          Product D             70\n",
       "Name: TransactionAmount, dtype: int64"
      ]
     },
     "execution_count": 172,
     "metadata": {},
     "output_type": "execute_result"
    }
   ],
   "source": [
    "# Group the data by 'Location' and 'ProductInformation', and count 'TransactionAmount'\n",
    "product_counts = df.groupby(['Location', 'ProductInformation'])['TransactionAmount'].count()\n",
    "product_counts\n"
   ]
  },
  {
   "cell_type": "code",
   "execution_count": 173,
   "metadata": {},
   "outputs": [
    {
     "data": {
      "image/png": "[encoded data removed]",
      "text/plain": [
       "<Figure size 1000x600 with 1 Axes>"
      ]
     },
     "metadata": {},
     "output_type": "display_data"
    }
   ],
   "source": [
    "#Resetting the index to make the 'Location' and 'ProductInformation' columns regular columns\n",
    "product_counts = product_counts.reset_index()\n",
    "\n",
    "# Creating a box plot\n",
    "plt.figure(figsize=(10, 6))\n",
    "sns.barplot(x='Location', y='TransactionAmount', hue='ProductInformation', data=product_counts)\n",
    "plt.title('Bar Plot of Transaction Amount by Location and Product')\n",
    "plt.xlabel('Location')\n",
    "plt.ylabel('Transaction Amount')\n",
    "plt.xticks(rotation=45)\n",
    "plt.tight_layout()\n",
    "plt.show()"
   ]
  },
  {
   "cell_type": "markdown",
   "metadata": {},
   "source": [
    "Observations\n",
    "- Tokyo has the highest total transaction count, followed closely by London.\n",
    "- Product C has the highest transaction count among all products.\n",
    "- Product A tends to have the lowest transaction counts."
   ]
  },
  {
   "cell_type": "markdown",
   "metadata": {},
   "source": [
    "## 6.6 What is the average spend for a customer?\n"
   ]
  },
  {
   "cell_type": "code",
   "execution_count": 174,
   "metadata": {},
   "outputs": [
    {
     "data": {
      "text/plain": [
       "513.6778100000001"
      ]
     },
     "execution_count": 174,
     "metadata": {},
     "output_type": "execute_result"
    }
   ],
   "source": [
    "average_spent = df['TransactionAmount'].mean()\n",
    "average_spent\n"
   ]
  },
  {
   "cell_type": "code",
   "execution_count": 175,
   "metadata": {},
   "outputs": [
    {
     "data": {
      "image/png": "[encoded data removed]",
      "text/plain": [
       "<Figure size 1000x600 with 1 Axes>"
      ]
     },
     "metadata": {},
     "output_type": "display_data"
    }
   ],
   "source": [
    "# Creating a histogram to show distribution\n",
    "plt.figure(figsize=(10,6))  \n",
    "df['TransactionAmount'].plot(kind='hist', bins=30, color='skyblue', edgecolor='black')\n",
    "plt.title('Distribution of Transaction Amounts')\n",
    "plt.xlabel('Transaction Amount')\n",
    "plt.ylabel('Frequency')\n",
    "plt.show()"
   ]
  },
  {
   "cell_type": "markdown",
   "metadata": {},
   "source": [
    "Observations:\n",
    "- The Average amount of money spent by the customers is around 513."
   ]
  },
  {
   "cell_type": "markdown",
   "metadata": {},
   "source": [
    "## 6.7 Customer Segmentation based on their RFM scores"
   ]
  },
  {
   "cell_type": "code",
   "execution_count": 176,
   "metadata": {},
   "outputs": [
    {
     "data": {
      "text/html": [
       "<div>\n",
       "<style scoped>\n",
       "    .dataframe tbody tr th:only-of-type {\n",
       "        vertical-align: middle;\n",
       "    }\n",
       "\n",
       "    .dataframe tbody tr th {\n",
       "        vertical-align: top;\n",
       "    }\n",
       "\n",
       "    .dataframe thead th {\n",
       "        text-align: right;\n",
       "    }\n",
       "</style>\n",
       "<table border=\"1\" class=\"dataframe\">\n",
       "  <thead>\n",
       "    <tr style=\"text-align: right;\">\n",
       "      <th></th>\n",
       "      <th>PurchaseDate</th>\n",
       "      <th>OrderID</th>\n",
       "      <th>TransactionAmount</th>\n",
       "    </tr>\n",
       "    <tr>\n",
       "      <th>CustomerID</th>\n",
       "      <th></th>\n",
       "      <th></th>\n",
       "      <th></th>\n",
       "    </tr>\n",
       "  </thead>\n",
       "  <tbody>\n",
       "    <tr>\n",
       "      <th>1011</th>\n",
       "      <td>34</td>\n",
       "      <td>2</td>\n",
       "      <td>1129.02</td>\n",
       "    </tr>\n",
       "    <tr>\n",
       "      <th>1025</th>\n",
       "      <td>22</td>\n",
       "      <td>1</td>\n",
       "      <td>359.29</td>\n",
       "    </tr>\n",
       "    <tr>\n",
       "      <th>1029</th>\n",
       "      <td>1</td>\n",
       "      <td>1</td>\n",
       "      <td>704.99</td>\n",
       "    </tr>\n",
       "    <tr>\n",
       "      <th>1046</th>\n",
       "      <td>44</td>\n",
       "      <td>1</td>\n",
       "      <td>859.82</td>\n",
       "    </tr>\n",
       "    <tr>\n",
       "      <th>1049</th>\n",
       "      <td>14</td>\n",
       "      <td>1</td>\n",
       "      <td>225.72</td>\n",
       "    </tr>\n",
       "    <tr>\n",
       "      <th>...</th>\n",
       "      <td>...</td>\n",
       "      <td>...</td>\n",
       "      <td>...</td>\n",
       "    </tr>\n",
       "    <tr>\n",
       "      <th>9941</th>\n",
       "      <td>43</td>\n",
       "      <td>1</td>\n",
       "      <td>960.53</td>\n",
       "    </tr>\n",
       "    <tr>\n",
       "      <th>9950</th>\n",
       "      <td>39</td>\n",
       "      <td>1</td>\n",
       "      <td>679.11</td>\n",
       "    </tr>\n",
       "    <tr>\n",
       "      <th>9954</th>\n",
       "      <td>13</td>\n",
       "      <td>1</td>\n",
       "      <td>798.01</td>\n",
       "    </tr>\n",
       "    <tr>\n",
       "      <th>9985</th>\n",
       "      <td>58</td>\n",
       "      <td>1</td>\n",
       "      <td>36.10</td>\n",
       "    </tr>\n",
       "    <tr>\n",
       "      <th>9991</th>\n",
       "      <td>31</td>\n",
       "      <td>1</td>\n",
       "      <td>626.81</td>\n",
       "    </tr>\n",
       "  </tbody>\n",
       "</table>\n",
       "<p>946 rows × 3 columns</p>\n",
       "</div>"
      ],
      "text/plain": [
       "            PurchaseDate  OrderID  TransactionAmount\n",
       "CustomerID                                          \n",
       "1011                  34        2            1129.02\n",
       "1025                  22        1             359.29\n",
       "1029                   1        1             704.99\n",
       "1046                  44        1             859.82\n",
       "1049                  14        1             225.72\n",
       "...                  ...      ...                ...\n",
       "9941                  43        1             960.53\n",
       "9950                  39        1             679.11\n",
       "9954                  13        1             798.01\n",
       "9985                  58        1              36.10\n",
       "9991                  31        1             626.81\n",
       "\n",
       "[946 rows x 3 columns]"
      ]
     },
     "execution_count": 176,
     "metadata": {},
     "output_type": "execute_result"
    }
   ],
   "source": [
    "# Calculating Recency, Frequency, Monetary values for each customer\n",
    "#Snap_shot date refers to the date after the last transaction\n",
    "snapshot_date = df['PurchaseDate'].max() + pd.DateOffset(days=1)  # The day after the last transaction.\n",
    "df_rfm = df.groupby('CustomerID').agg({\n",
    "    'PurchaseDate': lambda x: (snapshot_date - x.max()).days,  # for Recency: Number of days between the last transaction and the snapshot date\n",
    "    'OrderID': 'count',  # for Frequency: Number of purchases\n",
    "    'TransactionAmount': 'sum'  # for Monetary: Total amount of transactions\n",
    "})\n",
    "df_rfm"
   ]
  },
  {
   "cell_type": "code",
   "execution_count": 177,
   "metadata": {},
   "outputs": [],
   "source": [
    "# The columns will be renamed to ‘Recency’, ‘Frequency’, and ‘Monetary’ for better clarity.\n",
    "df_rfm.rename(columns={'PurchaseDate': 'Recency', 'OrderID': 'Frequency', 'TransactionAmount': 'Monetary'}, inplace=True)\n",
    "\n"
   ]
  },
  {
   "cell_type": "code",
   "execution_count": 178,
   "metadata": {},
   "outputs": [],
   "source": [
    "# Dividing the metrics into segments using rank-based quartiles\n",
    "r_labels = range(4, 0, -1); f_labels = range(1, 5); m_labels = range(1, 5)\n",
    "r_quartiles = pd.qcut(df_rfm['Recency'].rank(method='first'), q=4, labels=r_labels)  # Recency: The lower the better\n",
    "f_quartiles = pd.qcut(df_rfm['Frequency'].rank(method='first'), q=4, labels=f_labels)  # Frequency: The higher the better\n",
    "m_quartiles = pd.qcut(df_rfm['Monetary'].rank(method='first'), q=4, labels=m_labels)  # Monetary: The higher the better\n",
    "\n",
    "# Assign these quartiles to new columns in our DataFrame\n",
    "df_rfm = df_rfm.assign(R=r_quartiles, F=f_quartiles, M=m_quartiles)\n",
    "\n",
    "# Calculate RFM_Score\n",
    "df_rfm['RFM_Score'] = df_rfm[['R','F','M']].sum(axis=1)\n",
    "\n",
    "# Define rfm_level function\n",
    "def rfm_level(df):\n",
    "    if bool(df['RFM_Score'] >= 10):\n",
    "        return 'High Value Customer'\n",
    "    elif bool((df['RFM_Score'] < 10) & (df['RFM_Score'] >= 6)):\n",
    "        return 'Mid Value Customer'\n",
    "    else:\n",
    "        return 'Low Value Customer'\n",
    "\n",
    "# Create a new variable RFM_Level\n",
    "df_rfm['RFM_Level'] = df_rfm.apply(rfm_level, axis=1)\n",
    "\n"
   ]
  },
  {
   "cell_type": "code",
   "execution_count": 179,
   "metadata": {},
   "outputs": [
    {
     "data": {
      "text/html": [
       "<div>\n",
       "<style scoped>\n",
       "    .dataframe tbody tr th:only-of-type {\n",
       "        vertical-align: middle;\n",
       "    }\n",
       "\n",
       "    .dataframe tbody tr th {\n",
       "        vertical-align: top;\n",
       "    }\n",
       "\n",
       "    .dataframe thead th {\n",
       "        text-align: right;\n",
       "    }\n",
       "</style>\n",
       "<table border=\"1\" class=\"dataframe\">\n",
       "  <thead>\n",
       "    <tr style=\"text-align: right;\">\n",
       "      <th></th>\n",
       "      <th>Recency</th>\n",
       "      <th>Frequency</th>\n",
       "      <th>Monetary</th>\n",
       "      <th>R</th>\n",
       "      <th>F</th>\n",
       "      <th>M</th>\n",
       "      <th>RFM_Score</th>\n",
       "      <th>RFM_Level</th>\n",
       "    </tr>\n",
       "    <tr>\n",
       "      <th>CustomerID</th>\n",
       "      <th></th>\n",
       "      <th></th>\n",
       "      <th></th>\n",
       "      <th></th>\n",
       "      <th></th>\n",
       "      <th></th>\n",
       "      <th></th>\n",
       "      <th></th>\n",
       "    </tr>\n",
       "  </thead>\n",
       "  <tbody>\n",
       "    <tr>\n",
       "      <th>1011</th>\n",
       "      <td>34</td>\n",
       "      <td>2</td>\n",
       "      <td>1129.02</td>\n",
       "      <td>2</td>\n",
       "      <td>4</td>\n",
       "      <td>4</td>\n",
       "      <td>10</td>\n",
       "      <td>High Value Customer</td>\n",
       "    </tr>\n",
       "    <tr>\n",
       "      <th>1025</th>\n",
       "      <td>22</td>\n",
       "      <td>1</td>\n",
       "      <td>359.29</td>\n",
       "      <td>3</td>\n",
       "      <td>1</td>\n",
       "      <td>2</td>\n",
       "      <td>6</td>\n",
       "      <td>Mid Value Customer</td>\n",
       "    </tr>\n",
       "    <tr>\n",
       "      <th>1029</th>\n",
       "      <td>1</td>\n",
       "      <td>1</td>\n",
       "      <td>704.99</td>\n",
       "      <td>4</td>\n",
       "      <td>1</td>\n",
       "      <td>3</td>\n",
       "      <td>8</td>\n",
       "      <td>Mid Value Customer</td>\n",
       "    </tr>\n",
       "    <tr>\n",
       "      <th>1046</th>\n",
       "      <td>44</td>\n",
       "      <td>1</td>\n",
       "      <td>859.82</td>\n",
       "      <td>2</td>\n",
       "      <td>1</td>\n",
       "      <td>4</td>\n",
       "      <td>7</td>\n",
       "      <td>Mid Value Customer</td>\n",
       "    </tr>\n",
       "    <tr>\n",
       "      <th>1049</th>\n",
       "      <td>14</td>\n",
       "      <td>1</td>\n",
       "      <td>225.72</td>\n",
       "      <td>4</td>\n",
       "      <td>1</td>\n",
       "      <td>1</td>\n",
       "      <td>6</td>\n",
       "      <td>Mid Value Customer</td>\n",
       "    </tr>\n",
       "    <tr>\n",
       "      <th>...</th>\n",
       "      <td>...</td>\n",
       "      <td>...</td>\n",
       "      <td>...</td>\n",
       "      <td>...</td>\n",
       "      <td>...</td>\n",
       "      <td>...</td>\n",
       "      <td>...</td>\n",
       "      <td>...</td>\n",
       "    </tr>\n",
       "    <tr>\n",
       "      <th>9941</th>\n",
       "      <td>43</td>\n",
       "      <td>1</td>\n",
       "      <td>960.53</td>\n",
       "      <td>2</td>\n",
       "      <td>4</td>\n",
       "      <td>4</td>\n",
       "      <td>10</td>\n",
       "      <td>High Value Customer</td>\n",
       "    </tr>\n",
       "    <tr>\n",
       "      <th>9950</th>\n",
       "      <td>39</td>\n",
       "      <td>1</td>\n",
       "      <td>679.11</td>\n",
       "      <td>2</td>\n",
       "      <td>4</td>\n",
       "      <td>3</td>\n",
       "      <td>9</td>\n",
       "      <td>Mid Value Customer</td>\n",
       "    </tr>\n",
       "    <tr>\n",
       "      <th>9954</th>\n",
       "      <td>13</td>\n",
       "      <td>1</td>\n",
       "      <td>798.01</td>\n",
       "      <td>4</td>\n",
       "      <td>4</td>\n",
       "      <td>4</td>\n",
       "      <td>12</td>\n",
       "      <td>High Value Customer</td>\n",
       "    </tr>\n",
       "    <tr>\n",
       "      <th>9985</th>\n",
       "      <td>58</td>\n",
       "      <td>1</td>\n",
       "      <td>36.10</td>\n",
       "      <td>1</td>\n",
       "      <td>4</td>\n",
       "      <td>1</td>\n",
       "      <td>6</td>\n",
       "      <td>Mid Value Customer</td>\n",
       "    </tr>\n",
       "    <tr>\n",
       "      <th>9991</th>\n",
       "      <td>31</td>\n",
       "      <td>1</td>\n",
       "      <td>626.81</td>\n",
       "      <td>3</td>\n",
       "      <td>4</td>\n",
       "      <td>3</td>\n",
       "      <td>10</td>\n",
       "      <td>High Value Customer</td>\n",
       "    </tr>\n",
       "  </tbody>\n",
       "</table>\n",
       "<p>946 rows × 8 columns</p>\n",
       "</div>"
      ],
      "text/plain": [
       "            Recency  Frequency  Monetary  R  F  M  RFM_Score  \\\n",
       "CustomerID                                                     \n",
       "1011             34          2   1129.02  2  4  4         10   \n",
       "1025             22          1    359.29  3  1  2          6   \n",
       "1029              1          1    704.99  4  1  3          8   \n",
       "1046             44          1    859.82  2  1  4          7   \n",
       "1049             14          1    225.72  4  1  1          6   \n",
       "...             ...        ...       ... .. .. ..        ...   \n",
       "9941             43          1    960.53  2  4  4         10   \n",
       "9950             39          1    679.11  2  4  3          9   \n",
       "9954             13          1    798.01  4  4  4         12   \n",
       "9985             58          1     36.10  1  4  1          6   \n",
       "9991             31          1    626.81  3  4  3         10   \n",
       "\n",
       "                      RFM_Level  \n",
       "CustomerID                       \n",
       "1011        High Value Customer  \n",
       "1025         Mid Value Customer  \n",
       "1029         Mid Value Customer  \n",
       "1046         Mid Value Customer  \n",
       "1049         Mid Value Customer  \n",
       "...                         ...  \n",
       "9941        High Value Customer  \n",
       "9950         Mid Value Customer  \n",
       "9954        High Value Customer  \n",
       "9985         Mid Value Customer  \n",
       "9991        High Value Customer  \n",
       "\n",
       "[946 rows x 8 columns]"
      ]
     },
     "execution_count": 179,
     "metadata": {},
     "output_type": "execute_result"
    }
   ],
   "source": [
    "df_rfm"
   ]
  },
  {
   "cell_type": "code",
   "execution_count": 180,
   "metadata": {},
   "outputs": [
    {
     "data": {
      "text/html": [
       "<div>\n",
       "<style scoped>\n",
       "    .dataframe tbody tr th:only-of-type {\n",
       "        vertical-align: middle;\n",
       "    }\n",
       "\n",
       "    .dataframe tbody tr th {\n",
       "        vertical-align: top;\n",
       "    }\n",
       "\n",
       "    .dataframe thead th {\n",
       "        text-align: right;\n",
       "    }\n",
       "</style>\n",
       "<table border=\"1\" class=\"dataframe\">\n",
       "  <thead>\n",
       "    <tr style=\"text-align: right;\">\n",
       "      <th></th>\n",
       "      <th>Recency</th>\n",
       "      <th>Frequency</th>\n",
       "      <th>Monetary</th>\n",
       "      <th>RFM_Score</th>\n",
       "    </tr>\n",
       "  </thead>\n",
       "  <tbody>\n",
       "    <tr>\n",
       "      <th>count</th>\n",
       "      <td>946.000000</td>\n",
       "      <td>946.000000</td>\n",
       "      <td>946.000000</td>\n",
       "      <td>946.000000</td>\n",
       "    </tr>\n",
       "    <tr>\n",
       "      <th>mean</th>\n",
       "      <td>30.983087</td>\n",
       "      <td>1.057082</td>\n",
       "      <td>542.999799</td>\n",
       "      <td>7.500000</td>\n",
       "    </tr>\n",
       "    <tr>\n",
       "      <th>std</th>\n",
       "      <td>17.318484</td>\n",
       "      <td>0.245418</td>\n",
       "      <td>324.382398</td>\n",
       "      <td>1.963287</td>\n",
       "    </tr>\n",
       "    <tr>\n",
       "      <th>min</th>\n",
       "      <td>1.000000</td>\n",
       "      <td>1.000000</td>\n",
       "      <td>12.130000</td>\n",
       "      <td>3.000000</td>\n",
       "    </tr>\n",
       "    <tr>\n",
       "      <th>25%</th>\n",
       "      <td>15.000000</td>\n",
       "      <td>1.000000</td>\n",
       "      <td>266.640000</td>\n",
       "      <td>6.000000</td>\n",
       "    </tr>\n",
       "    <tr>\n",
       "      <th>50%</th>\n",
       "      <td>32.000000</td>\n",
       "      <td>1.000000</td>\n",
       "      <td>542.895000</td>\n",
       "      <td>7.000000</td>\n",
       "    </tr>\n",
       "    <tr>\n",
       "      <th>75%</th>\n",
       "      <td>45.000000</td>\n",
       "      <td>1.000000</td>\n",
       "      <td>782.695000</td>\n",
       "      <td>9.000000</td>\n",
       "    </tr>\n",
       "    <tr>\n",
       "      <th>max</th>\n",
       "      <td>61.000000</td>\n",
       "      <td>3.000000</td>\n",
       "      <td>2379.450000</td>\n",
       "      <td>12.000000</td>\n",
       "    </tr>\n",
       "  </tbody>\n",
       "</table>\n",
       "</div>"
      ],
      "text/plain": [
       "          Recency   Frequency     Monetary   RFM_Score\n",
       "count  946.000000  946.000000   946.000000  946.000000\n",
       "mean    30.983087    1.057082   542.999799    7.500000\n",
       "std     17.318484    0.245418   324.382398    1.963287\n",
       "min      1.000000    1.000000    12.130000    3.000000\n",
       "25%     15.000000    1.000000   266.640000    6.000000\n",
       "50%     32.000000    1.000000   542.895000    7.000000\n",
       "75%     45.000000    1.000000   782.695000    9.000000\n",
       "max     61.000000    3.000000  2379.450000   12.000000"
      ]
     },
     "execution_count": 180,
     "metadata": {},
     "output_type": "execute_result"
    }
   ],
   "source": [
    "df_rfm.describe()"
   ]
  },
  {
   "cell_type": "code",
   "execution_count": 181,
   "metadata": {},
   "outputs": [
    {
     "data": {
      "text/plain": [
       "Mid Value Customer     644\n",
       "High Value Customer    156\n",
       "Low Value Customer     146\n",
       "Name: RFM_Level, dtype: int64"
      ]
     },
     "execution_count": 181,
     "metadata": {},
     "output_type": "execute_result"
    }
   ],
   "source": [
    "# Grouping by 'RFM_Level' and calculating the count for each group\n",
    "rfm_level_counts = df_rfm['RFM_Level'].value_counts()\n",
    "rfm_level_counts\n"
   ]
  },
  {
   "cell_type": "code",
   "execution_count": 182,
   "metadata": {},
   "outputs": [
    {
     "data": {
      "image/png": "[encoded data removed]",
      "text/plain": [
       "<Figure size 1000x600 with 1 Axes>"
      ]
     },
     "metadata": {},
     "output_type": "display_data"
    }
   ],
   "source": [
    "# Creating a bar plot\n",
    "plt.figure(figsize=(10,6)) \n",
    "rfm_level_counts.plot(kind='bar', color='skyblue')  \n",
    "plt.title('Rfm Level Distribution')\n",
    "plt.xlabel('Customer Level')\n",
    "plt.ylabel('Count')\n",
    "plt.xticks(rotation=45)\n",
    "plt.show()"
   ]
  },
  {
   "cell_type": "markdown",
   "metadata": {},
   "source": [
    "Observations:\n",
    "- The average recency (mean) is approximately 31 days, with a minimum of 1 day and a maximum of 61 days. The 31 days is encouraging since it means most customers made a purchase in the past month.\n",
    "- The standard deviation is relatively low, with a minimum of 1 and a maximum of 3 suggesting that most customers have a frequency of 1.\n",
    "- The average monetary value is $543, with a minimum of $12.13 and a maximum of $2,379.45. \n",
    "- The RFM scores range from 3 to 12, with an average score of 7.5. The scores are divided into quartiles, with the middle 50% of customers having scores between 6 and 9.\n",
    "- \"Mid Value Customer\" has the largest representation with 644 customers.\n",
    "- \"High Value Customer\" includes 156 customers.\n",
    "- \"Low Value Customer\" comprises 146 customers."
   ]
  },
  {
   "cell_type": "markdown",
   "metadata": {},
   "source": [
    "Recommendations:\n",
    "\n",
    "High Value Customer Focus: Given the relatively small number of \"High Value Customers,\" it's essential to prioritize their retention and engagement. Offer them personalized incentives, exclusive offers, and top-notch customer service to ensure they remain loyal.\n",
    "\n",
    "Mid Value Customer Growth: The \"Mid Value Customer\" segment, being the largest, presents an opportunity for growth. Consider strategies to increase the frequency and monetary value of their transactions. This might involve loyalty programs, cross-selling, and product recommendations.\n",
    "\n",
    "Low Value Customer Re-engagement: While the \"Low Value Customer\" segment is small, it's worth exploring ways to re-engage them. Targeted promotions and incentives could potentially convert some of these customers into more active and higher-spending segments.\n",
    "\n",
    "Monitoring and Analysis: Continue to monitor customer behavior over time. Analyze trends in recency, frequency, and monetary values to identify changes in customer behavior and adapt your strategies accordingly.\n",
    "\n",
    "Personalization: Implement personalized marketing and product recommendations for different RFM segments. Tailor your communication and offerings to the specific needs and preferences of each segment.\n",
    "\n",
    "Churn Prevention: Use the RFM scores to identify customers at risk of churning and implement strategies to prevent customer attrition. Early intervention can help retain valuable customers.\n",
    "\n",
    "A/B Testing: Experiment with different marketing strategies, pricing models, and product offerings for various RFM segments. Measure the impact of these changes on customer behavior and profitability.\n",
    "\n",
    "Customer Feedback: Gather feedback from customers in each segment to understand their satisfaction levels and preferences. Use this feedback to enhance your products and services.\n",
    "\n",
    "Customer Lifetime Value (CLV): Calculate and monitor the Customer Lifetime Value for each RFM segment to understand the long-term profitability and make resource allocation decisions accordingly.\n",
    "\n",
    "Data Collection: Continue to collect data on customer behavior and preferences to refine your RFM analysis and strategies over time."
   ]
  },
  {
   "cell_type": "code",
   "execution_count": null,
   "metadata": {},
   "outputs": [],
   "source": []
  }
 ],
 "metadata": {
  "kernelspec": {
   "display_name": "base",
   "language": "python",
   "name": "python3"
  },
  "language_info": {
   "codemirror_mode": {
    "name": "ipython",
    "version": 3
   },
   "file_extension": ".py",
   "mimetype": "text/x-python",
   "name": "python",
   "nbconvert_exporter": "python",
   "pygments_lexer": "ipython3",
   "version": "3.9.13"
  },
  "orig_nbformat": 4
 },
 "nbformat": 4,
 "nbformat_minor": 2
}
